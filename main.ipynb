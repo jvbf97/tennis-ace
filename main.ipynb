{
 "metadata": {
  "language_info": {
   "codemirror_mode": {
    "name": "ipython",
    "version": 3
   },
   "file_extension": ".py",
   "mimetype": "text/x-python",
   "name": "python",
   "nbconvert_exporter": "python",
   "pygments_lexer": "ipython3",
   "version": "3.7.9-final"
  },
  "orig_nbformat": 2,
  "kernelspec": {
   "name": "Python 3.7.9 64-bit ('tenis-ace': conda)",
   "display_name": "Python 3.7.9 64-bit ('tenis-ace': conda)",
   "metadata": {
    "interpreter": {
     "hash": "460f6e782d3270d826cb7529feb2ad6661d818804f8077f9717933e86c6e35cc"
    }
   }
  }
 },
 "nbformat": 4,
 "nbformat_minor": 2,
 "cells": [
  {
   "source": [
    "# 0.0 Imports"
   ],
   "cell_type": "markdown",
   "metadata": {}
  },
  {
   "cell_type": "code",
   "execution_count": 36,
   "metadata": {},
   "outputs": [],
   "source": [
    "import inflection\n",
    "import pandas            as pd \n",
    "import numpy             as np\n",
    "import matplotlib.pyplot as plt  \n",
    "import seaborn           as sns         \n",
    "\n",
    "from sklearn.model_selection import train_test_split\n",
    "from sklearn.linear_model    import LinearRegression\n",
    "\n",
    "from IPython.core.display import display, HTML"
   ]
  },
  {
   "source": [
    "## 0.1 Helper Functions"
   ],
   "cell_type": "markdown",
   "metadata": {}
  },
  {
   "cell_type": "code",
   "execution_count": 29,
   "metadata": {},
   "outputs": [],
   "source": [
    "def jupyter_settings():\n",
    "    %matplotlib inline\n",
    "    %pylab inline\n",
    "    \n",
    "    plt.style.use( 'bmh' )\n",
    "    plt.rcParams['figure.figsize'] = [25, 12]\n",
    "    plt.rcParams['font.size'] = 24\n",
    "    \n",
    "    display( HTML( '<style>.container { width:75% !important; }</style>') )\n",
    "    pd.options.display.max_columns = None\n",
    "    pd.options.display.max_rows = None\n",
    "    pd.set_option( 'display.expand_frame_repr', False )\n",
    "    \n",
    "    sns.set()"
   ]
  },
  {
   "cell_type": "code",
   "execution_count": 30,
   "metadata": {},
   "outputs": [
    {
     "output_type": "stream",
     "name": "stdout",
     "text": [
      "Populating the interactive namespace from numpy and matplotlib\n"
     ]
    },
    {
     "output_type": "display_data",
     "data": {
      "text/plain": "<IPython.core.display.HTML object>",
      "text/html": "<style>.container { width:75% !important; }</style>"
     },
     "metadata": {}
    }
   ],
   "source": [
    "jupyter_settings()"
   ]
  },
  {
   "source": [
    "## 0.2 Load data"
   ],
   "cell_type": "markdown",
   "metadata": {}
  },
  {
   "cell_type": "code",
   "execution_count": 33,
   "metadata": {},
   "outputs": [],
   "source": [
    "df = pd.read_csv('data/tennis_stats.csv', low_memory = False)"
   ]
  },
  {
   "cell_type": "code",
   "execution_count": 34,
   "metadata": {},
   "outputs": [
    {
     "output_type": "execute_result",
     "data": {
      "text/plain": [
       "                 Player  Year  FirstServe  FirstServePointsWon  FirstServeReturnPointsWon  SecondServePointsWon  SecondServeReturnPointsWon  Aces  BreakPointsConverted  BreakPointsFaced  BreakPointsOpportunities  BreakPointsSaved  DoubleFaults  ReturnGamesPlayed  ReturnGamesWon  ReturnPointsWon  ServiceGamesPlayed  ServiceGamesWon  TotalPointsWon  TotalServicePointsWon  Wins  Losses  Winnings  Ranking\n",
       "0           Pedro Sousa  2016        0.88                 0.50                       0.38                  0.50                        0.39     0                  0.14                 7                         7              0.43             2                  9            0.11             0.38                   8             0.50            0.43                   0.50     1       2     39820      119\n",
       "1       Roman Safiullin  2017        0.84                 0.62                       0.26                  0.33                        0.07     7                  0.00                 7                         0              0.57             1                  9            0.00             0.20                   9             0.67            0.41                   0.57     0       1     17334      381\n",
       "2           Pedro Sousa  2017        0.83                 0.60                       0.28                  0.53                        0.44     2                  0.38                10                         8              0.40             1                 19            0.16             0.34                  17             0.65            0.45                   0.59     4       1    109827      119\n",
       "3   Rogerio Dutra Silva  2010        0.83                 0.64                       0.34                  0.59                        0.33     2                  0.33                 5                         6              0.40             0                 14            0.14             0.34                  15             0.80            0.49                   0.63     0       0      9761      125\n",
       "4  Daniel Gimeno-Traver  2017        0.81                 0.54                       0.00                  0.33                        0.33     1                  0.00                 2                         0              0.50             2                  3            0.00             0.20                   2             0.50            0.35                   0.50     0       1     32879      272"
      ],
      "text/html": "<div>\n<style scoped>\n    .dataframe tbody tr th:only-of-type {\n        vertical-align: middle;\n    }\n\n    .dataframe tbody tr th {\n        vertical-align: top;\n    }\n\n    .dataframe thead th {\n        text-align: right;\n    }\n</style>\n<table border=\"1\" class=\"dataframe\">\n  <thead>\n    <tr style=\"text-align: right;\">\n      <th></th>\n      <th>Player</th>\n      <th>Year</th>\n      <th>FirstServe</th>\n      <th>FirstServePointsWon</th>\n      <th>FirstServeReturnPointsWon</th>\n      <th>SecondServePointsWon</th>\n      <th>SecondServeReturnPointsWon</th>\n      <th>Aces</th>\n      <th>BreakPointsConverted</th>\n      <th>BreakPointsFaced</th>\n      <th>BreakPointsOpportunities</th>\n      <th>BreakPointsSaved</th>\n      <th>DoubleFaults</th>\n      <th>ReturnGamesPlayed</th>\n      <th>ReturnGamesWon</th>\n      <th>ReturnPointsWon</th>\n      <th>ServiceGamesPlayed</th>\n      <th>ServiceGamesWon</th>\n      <th>TotalPointsWon</th>\n      <th>TotalServicePointsWon</th>\n      <th>Wins</th>\n      <th>Losses</th>\n      <th>Winnings</th>\n      <th>Ranking</th>\n    </tr>\n  </thead>\n  <tbody>\n    <tr>\n      <th>0</th>\n      <td>Pedro Sousa</td>\n      <td>2016</td>\n      <td>0.88</td>\n      <td>0.50</td>\n      <td>0.38</td>\n      <td>0.50</td>\n      <td>0.39</td>\n      <td>0</td>\n      <td>0.14</td>\n      <td>7</td>\n      <td>7</td>\n      <td>0.43</td>\n      <td>2</td>\n      <td>9</td>\n      <td>0.11</td>\n      <td>0.38</td>\n      <td>8</td>\n      <td>0.50</td>\n      <td>0.43</td>\n      <td>0.50</td>\n      <td>1</td>\n      <td>2</td>\n      <td>39820</td>\n      <td>119</td>\n    </tr>\n    <tr>\n      <th>1</th>\n      <td>Roman Safiullin</td>\n      <td>2017</td>\n      <td>0.84</td>\n      <td>0.62</td>\n      <td>0.26</td>\n      <td>0.33</td>\n      <td>0.07</td>\n      <td>7</td>\n      <td>0.00</td>\n      <td>7</td>\n      <td>0</td>\n      <td>0.57</td>\n      <td>1</td>\n      <td>9</td>\n      <td>0.00</td>\n      <td>0.20</td>\n      <td>9</td>\n      <td>0.67</td>\n      <td>0.41</td>\n      <td>0.57</td>\n      <td>0</td>\n      <td>1</td>\n      <td>17334</td>\n      <td>381</td>\n    </tr>\n    <tr>\n      <th>2</th>\n      <td>Pedro Sousa</td>\n      <td>2017</td>\n      <td>0.83</td>\n      <td>0.60</td>\n      <td>0.28</td>\n      <td>0.53</td>\n      <td>0.44</td>\n      <td>2</td>\n      <td>0.38</td>\n      <td>10</td>\n      <td>8</td>\n      <td>0.40</td>\n      <td>1</td>\n      <td>19</td>\n      <td>0.16</td>\n      <td>0.34</td>\n      <td>17</td>\n      <td>0.65</td>\n      <td>0.45</td>\n      <td>0.59</td>\n      <td>4</td>\n      <td>1</td>\n      <td>109827</td>\n      <td>119</td>\n    </tr>\n    <tr>\n      <th>3</th>\n      <td>Rogerio Dutra Silva</td>\n      <td>2010</td>\n      <td>0.83</td>\n      <td>0.64</td>\n      <td>0.34</td>\n      <td>0.59</td>\n      <td>0.33</td>\n      <td>2</td>\n      <td>0.33</td>\n      <td>5</td>\n      <td>6</td>\n      <td>0.40</td>\n      <td>0</td>\n      <td>14</td>\n      <td>0.14</td>\n      <td>0.34</td>\n      <td>15</td>\n      <td>0.80</td>\n      <td>0.49</td>\n      <td>0.63</td>\n      <td>0</td>\n      <td>0</td>\n      <td>9761</td>\n      <td>125</td>\n    </tr>\n    <tr>\n      <th>4</th>\n      <td>Daniel Gimeno-Traver</td>\n      <td>2017</td>\n      <td>0.81</td>\n      <td>0.54</td>\n      <td>0.00</td>\n      <td>0.33</td>\n      <td>0.33</td>\n      <td>1</td>\n      <td>0.00</td>\n      <td>2</td>\n      <td>0</td>\n      <td>0.50</td>\n      <td>2</td>\n      <td>3</td>\n      <td>0.00</td>\n      <td>0.20</td>\n      <td>2</td>\n      <td>0.50</td>\n      <td>0.35</td>\n      <td>0.50</td>\n      <td>0</td>\n      <td>1</td>\n      <td>32879</td>\n      <td>272</td>\n    </tr>\n  </tbody>\n</table>\n</div>"
     },
     "metadata": {},
     "execution_count": 34
    }
   ],
   "source": [
    "df.head()"
   ]
  },
  {
   "source": [
    "# 1.0 Describe data"
   ],
   "cell_type": "markdown",
   "metadata": {}
  },
  {
   "cell_type": "code",
   "execution_count": 35,
   "metadata": {},
   "outputs": [
    {
     "output_type": "execute_result",
     "data": {
      "text/plain": [
       "Index(['Player', 'Year', 'FirstServe', 'FirstServePointsWon',\n",
       "       'FirstServeReturnPointsWon', 'SecondServePointsWon',\n",
       "       'SecondServeReturnPointsWon', 'Aces', 'BreakPointsConverted',\n",
       "       'BreakPointsFaced', 'BreakPointsOpportunities', 'BreakPointsSaved',\n",
       "       'DoubleFaults', 'ReturnGamesPlayed', 'ReturnGamesWon',\n",
       "       'ReturnPointsWon', 'ServiceGamesPlayed', 'ServiceGamesWon',\n",
       "       'TotalPointsWon', 'TotalServicePointsWon', 'Wins', 'Losses', 'Winnings',\n",
       "       'Ranking'],\n",
       "      dtype='object')"
      ]
     },
     "metadata": {},
     "execution_count": 35
    }
   ],
   "source": [
    "df.columns"
   ]
  },
  {
   "source": [
    "## 1.1 Rename Columns"
   ],
   "cell_type": "markdown",
   "metadata": {}
  },
  {
   "cell_type": "code",
   "execution_count": 37,
   "metadata": {},
   "outputs": [],
   "source": [
    "cols_old = ['Player', 'Year', 'FirstServe', 'FirstServePointsWon',\n",
    "       'FirstServeReturnPointsWon', 'SecondServePointsWon',\n",
    "       'SecondServeReturnPointsWon', 'Aces', 'BreakPointsConverted',\n",
    "       'BreakPointsFaced', 'BreakPointsOpportunities', 'BreakPointsSaved',\n",
    "       'DoubleFaults', 'ReturnGamesPlayed', 'ReturnGamesWon',\n",
    "       'ReturnPointsWon', 'ServiceGamesPlayed', 'ServiceGamesWon',\n",
    "       'TotalPointsWon', 'TotalServicePointsWon', 'Wins', 'Losses','Winnings','Ranking']\n",
    "\n",
    "snakecase = lambda x: inflection.underscore(x)\n",
    "\n",
    "cols_new = list(map(snakecase, cols_old))\n",
    "\n",
    "df.columns = cols_new"
   ]
  },
  {
   "cell_type": "code",
   "execution_count": 38,
   "metadata": {},
   "outputs": [
    {
     "output_type": "execute_result",
     "data": {
      "text/plain": [
       "Index(['player', 'year', 'first_serve', 'first_serve_points_won',\n",
       "       'first_serve_return_points_won', 'second_serve_points_won',\n",
       "       'second_serve_return_points_won', 'aces', 'break_points_converted',\n",
       "       'break_points_faced', 'break_points_opportunities',\n",
       "       'break_points_saved', 'double_faults', 'return_games_played',\n",
       "       'return_games_won', 'return_points_won', 'service_games_played',\n",
       "       'service_games_won', 'total_points_won', 'total_service_points_won',\n",
       "       'wins', 'losses', 'winnings', 'ranking'],\n",
       "      dtype='object')"
      ]
     },
     "metadata": {},
     "execution_count": 38
    }
   ],
   "source": [
    "df.columns"
   ]
  },
  {
   "source": [
    "## 1.2 Data Dimensions"
   ],
   "cell_type": "markdown",
   "metadata": {}
  },
  {
   "cell_type": "code",
   "execution_count": 40,
   "metadata": {},
   "outputs": [
    {
     "output_type": "stream",
     "name": "stdout",
     "text": [
      "Number of Rows: 1721\nNumber of Cols: 24\n"
     ]
    }
   ],
   "source": [
    "print( 'Number of Rows: {}'.format( df.shape[0] ) )\n",
    "print( 'Number of Cols: {}'.format( df.shape[1] ) )"
   ]
  },
  {
   "source": [
    "## 1.3 Data Types "
   ],
   "cell_type": "markdown",
   "metadata": {}
  },
  {
   "cell_type": "code",
   "execution_count": 41,
   "metadata": {},
   "outputs": [
    {
     "output_type": "execute_result",
     "data": {
      "text/plain": [
       "player                             object\n",
       "year                                int64\n",
       "first_serve                       float64\n",
       "first_serve_points_won            float64\n",
       "first_serve_return_points_won     float64\n",
       "second_serve_points_won           float64\n",
       "second_serve_return_points_won    float64\n",
       "aces                                int64\n",
       "break_points_converted            float64\n",
       "break_points_faced                  int64\n",
       "break_points_opportunities          int64\n",
       "break_points_saved                float64\n",
       "double_faults                       int64\n",
       "return_games_played                 int64\n",
       "return_games_won                  float64\n",
       "return_points_won                 float64\n",
       "service_games_played                int64\n",
       "service_games_won                 float64\n",
       "total_points_won                  float64\n",
       "total_service_points_won          float64\n",
       "wins                                int64\n",
       "losses                              int64\n",
       "winnings                            int64\n",
       "ranking                             int64\n",
       "dtype: object"
      ]
     },
     "metadata": {},
     "execution_count": 41
    }
   ],
   "source": [
    "df.dtypes"
   ]
  },
  {
   "cell_type": "code",
   "execution_count": null,
   "metadata": {},
   "outputs": [],
   "source": []
  }
 ]
}